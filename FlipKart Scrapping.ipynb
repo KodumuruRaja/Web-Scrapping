{
 "cells": [
  {
   "cell_type": "code",
   "execution_count": 1,
   "metadata": {},
   "outputs": [],
   "source": [
    "from autoscraper import AutoScraper"
   ]
  },
  {
   "cell_type": "code",
   "execution_count": 2,
   "metadata": {},
   "outputs": [],
   "source": [
    "url=\"https://www.flipkart.com/search?q=asus+laptops&otracker=search&otracker1=search&marketplace=FLIPKART&as-show=on&as=off&p%5B%5D=facets.system_memory%255B%255D%3D32%2BGB&sort=price_desc&p%5B%5D=facets.price_range.from%3DMin&p%5B%5D=facets.price_range.to%3DMax\""
   ]
  },
  {
   "cell_type": "code",
   "execution_count": 3,
   "metadata": {},
   "outputs": [],
   "source": [
    "wl=['₹3,19,990','39.62 cm (15.6 inch) Touchscreen Display','5% off']"
   ]
  },
  {
   "cell_type": "code",
   "execution_count": 4,
   "metadata": {},
   "outputs": [],
   "source": [
    "sc=AutoScraper()"
   ]
  },
  {
   "cell_type": "code",
   "execution_count": 5,
   "metadata": {},
   "outputs": [
    {
     "data": {
      "text/plain": [
       "['₹3,19,990',\n",
       " '₹2,69,990',\n",
       " '₹2,39,990',\n",
       " '₹2,24,990',\n",
       " '₹1,54,990',\n",
       " '39.62 cm (15.6 inch) Touchscreen Display',\n",
       " '34.04 cm (13.4 Inch) Touchscreen Display',\n",
       " '34.04 cm (13.4 inch) Touchscreen Display',\n",
       " '5% off',\n",
       " '23% off',\n",
       " '17% off',\n",
       " '20% off']"
      ]
     },
     "execution_count": 5,
     "metadata": {},
     "output_type": "execute_result"
    }
   ],
   "source": [
    "result=sc.build(url,wl)\n",
    "result"
   ]
  },
  {
   "cell_type": "code",
   "execution_count": 6,
   "metadata": {},
   "outputs": [
    {
     "data": {
      "text/plain": [
       "{'rule_p24c': ['₹3,19,990',\n",
       "  '₹2,69,990',\n",
       "  '₹2,69,990',\n",
       "  '₹2,39,990',\n",
       "  '₹2,24,990',\n",
       "  '₹1,54,990'],\n",
       " 'rule_d35n': ['39.62 cm (15.6 inch) Touchscreen Display',\n",
       "  '34.04 cm (13.4 Inch) Touchscreen Display',\n",
       "  '39.62 cm (15.6 inch) Touchscreen Display',\n",
       "  '39.62 cm (15.6 inch) Touchscreen Display',\n",
       "  '39.62 cm (15.6 inch) Touchscreen Display',\n",
       "  '34.04 cm (13.4 inch) Touchscreen Display'],\n",
       " 'rule_f8ph': ['39.62 cm (15.6 inch) Touchscreen Display',\n",
       "  '34.04 cm (13.4 Inch) Touchscreen Display',\n",
       "  '39.62 cm (15.6 inch) Touchscreen Display',\n",
       "  '39.62 cm (15.6 inch) Touchscreen Display',\n",
       "  '39.62 cm (15.6 inch) Touchscreen Display',\n",
       "  '34.04 cm (13.4 inch) Touchscreen Display'],\n",
       " 'rule_az0a': ['39.62 cm (15.6 inch) Touchscreen Display',\n",
       "  '34.04 cm (13.4 Inch) Touchscreen Display',\n",
       "  '39.62 cm (15.6 inch) Touchscreen Display',\n",
       "  '39.62 cm (15.6 inch) Touchscreen Display',\n",
       "  '39.62 cm (15.6 inch) Touchscreen Display',\n",
       "  '34.04 cm (13.4 inch) Touchscreen Display'],\n",
       " 'rule_cu02': ['39.62 cm (15.6 inch) Touchscreen Display',\n",
       "  '34.04 cm (13.4 Inch) Touchscreen Display',\n",
       "  '39.62 cm (15.6 inch) Touchscreen Display',\n",
       "  '39.62 cm (15.6 inch) Touchscreen Display',\n",
       "  '39.62 cm (15.6 inch) Touchscreen Display',\n",
       "  '34.04 cm (13.4 inch) Touchscreen Display'],\n",
       " 'rule_53ak': ['5% off',\n",
       "  '23% off',\n",
       "  '17% off',\n",
       "  '17% off',\n",
       "  '17% off',\n",
       "  '20% off']}"
      ]
     },
     "execution_count": 6,
     "metadata": {},
     "output_type": "execute_result"
    }
   ],
   "source": [
    "sc.get_result_similar(url,grouped=True)"
   ]
  },
  {
   "cell_type": "code",
   "execution_count": 7,
   "metadata": {},
   "outputs": [],
   "source": [
    "sc.set_rule_aliases({'rule_p24c':'Cost','rule_d35n':'Screen_Size','rule_53ak':'Percentage-Offer'})"
   ]
  },
  {
   "cell_type": "code",
   "execution_count": 8,
   "metadata": {},
   "outputs": [],
   "source": [
    "sc.keep_rules(['rule_p24c','rule_d35n','rule_53ak'])"
   ]
  },
  {
   "cell_type": "code",
   "execution_count": 9,
   "metadata": {},
   "outputs": [],
   "source": [
    "sc.save('Flipkart-Products')"
   ]
  },
  {
   "cell_type": "code",
   "execution_count": 10,
   "metadata": {},
   "outputs": [],
   "source": [
    "result=sc.get_result_similar('https://www.flipkart.com/search?q=asus+laptops&otracker=search&otracker1=search&marketplace=FLIPKART&as-show=on&as=off&p%5B%5D=facets.system_memory%255B%255D%3D32%2BGB&sort=price_desc&p%5B%5D=facets.price_range.from%3D50000&p%5B%5D=facets.price_range.to%3DMax',group_by_alias=True)"
   ]
  },
  {
   "cell_type": "code",
   "execution_count": 11,
   "metadata": {},
   "outputs": [
    {
     "data": {
      "text/plain": [
       "{'Cost': ['₹3,19,990',\n",
       "  '₹2,69,990',\n",
       "  '₹2,69,990',\n",
       "  '₹2,39,990',\n",
       "  '₹2,34,990',\n",
       "  '₹2,24,990',\n",
       "  '₹1,54,990'],\n",
       " 'Screen_Size': ['39.62 cm (15.6 inch) Touchscreen Display',\n",
       "  '34.04 cm (13.4 Inch) Touchscreen Display',\n",
       "  '39.62 cm (15.6 inch) Touchscreen Display',\n",
       "  '39.62 cm (15.6 inch) Touchscreen Display',\n",
       "  '39.62 cm (15.6 inch) Display',\n",
       "  '39.62 cm (15.6 inch) Touchscreen Display',\n",
       "  '34.04 cm (13.4 inch) Touchscreen Display'],\n",
       " 'Percentage-Offer': ['5% off',\n",
       "  '23% off',\n",
       "  '17% off',\n",
       "  '17% off',\n",
       "  '27% off',\n",
       "  '17% off',\n",
       "  '20% off']}"
      ]
     },
     "execution_count": 11,
     "metadata": {},
     "output_type": "execute_result"
    }
   ],
   "source": [
    "result"
   ]
  },
  {
   "cell_type": "code",
   "execution_count": 12,
   "metadata": {},
   "outputs": [
    {
     "data": {
      "text/plain": [
       "['₹3,19,990',\n",
       " '₹2,69,990',\n",
       " '₹2,69,990',\n",
       " '₹2,39,990',\n",
       " '₹2,34,990',\n",
       " '₹2,24,990',\n",
       " '₹1,54,990']"
      ]
     },
     "execution_count": 12,
     "metadata": {},
     "output_type": "execute_result"
    }
   ],
   "source": [
    "result['Cost']"
   ]
  },
  {
   "cell_type": "code",
   "execution_count": 13,
   "metadata": {},
   "outputs": [
    {
     "data": {
      "text/plain": [
       "['39.62 cm (15.6 inch) Touchscreen Display',\n",
       " '34.04 cm (13.4 Inch) Touchscreen Display',\n",
       " '39.62 cm (15.6 inch) Touchscreen Display',\n",
       " '39.62 cm (15.6 inch) Touchscreen Display',\n",
       " '39.62 cm (15.6 inch) Display',\n",
       " '39.62 cm (15.6 inch) Touchscreen Display',\n",
       " '34.04 cm (13.4 inch) Touchscreen Display']"
      ]
     },
     "execution_count": 13,
     "metadata": {},
     "output_type": "execute_result"
    }
   ],
   "source": [
    "result['Screen_Size']"
   ]
  },
  {
   "cell_type": "code",
   "execution_count": 14,
   "metadata": {},
   "outputs": [
    {
     "data": {
      "text/plain": [
       "['5% off', '23% off', '17% off', '17% off', '27% off', '17% off', '20% off']"
      ]
     },
     "execution_count": 14,
     "metadata": {},
     "output_type": "execute_result"
    }
   ],
   "source": [
    "result['Percentage-Offer']"
   ]
  },
  {
   "cell_type": "code",
   "execution_count": null,
   "metadata": {},
   "outputs": [],
   "source": []
  }
 ],
 "metadata": {
  "kernelspec": {
   "display_name": "Python 3",
   "language": "python",
   "name": "python3"
  },
  "language_info": {
   "codemirror_mode": {
    "name": "ipython",
    "version": 3
   },
   "file_extension": ".py",
   "mimetype": "text/x-python",
   "name": "python",
   "nbconvert_exporter": "python",
   "pygments_lexer": "ipython3",
   "version": "3.8.5"
  }
 },
 "nbformat": 4,
 "nbformat_minor": 4
}
