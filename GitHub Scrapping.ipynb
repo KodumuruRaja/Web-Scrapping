{
 "cells": [
  {
   "cell_type": "code",
   "execution_count": 1,
   "metadata": {},
   "outputs": [],
   "source": [
    "from autoscraper import AutoScraper"
   ]
  },
  {
   "cell_type": "code",
   "execution_count": 2,
   "metadata": {},
   "outputs": [],
   "source": [
    "url=\"https://github.com/KodumuruRaja?tab=repositories\""
   ]
  },
  {
   "cell_type": "code",
   "execution_count": 3,
   "metadata": {},
   "outputs": [],
   "source": [
    "wl=['14','All-DataSets']"
   ]
  },
  {
   "cell_type": "code",
   "execution_count": 4,
   "metadata": {},
   "outputs": [],
   "source": [
    "sc=AutoScraper()"
   ]
  },
  {
   "cell_type": "code",
   "execution_count": 5,
   "metadata": {},
   "outputs": [
    {
     "data": {
      "text/plain": [
       "['14',\n",
       " '0',\n",
       " 'Crash-Courses',\n",
       " 'Exploratory-Data-Analysis-EDA-',\n",
       " 'Data-Analytics',\n",
       " 'All-DataSets',\n",
       " 'Speech-Recognition',\n",
       " 'Data-Structures-and-Algorithms-DSA-',\n",
       " 'Python-Crash-Course',\n",
       " 'Cross-Validation-Techniques',\n",
       " 'HyperParameter-Tuning-Techniques',\n",
       " 'Clustering-Algorithms',\n",
       " 'IMBalanced-Balanced-data',\n",
       " 'Ensemble-Algorithms',\n",
       " 'Decision-Tree-Algorithms',\n",
       " 'Dimensionality-Reduction-Algorithms',\n",
       " 'Association-Rule-Learning-Algorithms-',\n",
       " 'Bayesian-Algorithms',\n",
       " 'Regularization-Algorithms',\n",
       " 'Instance-Based-Algorithms',\n",
       " 'Non-Linear-Linear-Data',\n",
       " 'Regression-Algorithms',\n",
       " 'Performance-Metrics',\n",
       " 'Feature-Scaling',\n",
       " 'Feature-Engineering',\n",
       " 'Feature-Selection']"
      ]
     },
     "execution_count": 5,
     "metadata": {},
     "output_type": "execute_result"
    }
   ],
   "source": [
    "result=sc.build(url,wl)\n",
    "result"
   ]
  },
  {
   "cell_type": "markdown",
   "metadata": {},
   "source": [
    "### Grouping two websites for Scrapping"
   ]
  },
  {
   "cell_type": "code",
   "execution_count": 6,
   "metadata": {},
   "outputs": [
    {
     "data": {
      "text/plain": [
       "{'rule_kqtz': ['14', '0', '0'],\n",
       " 'rule_y09p': ['Crash-Courses',\n",
       "  'Exploratory-Data-Analysis-EDA-',\n",
       "  'Data-Analytics',\n",
       "  'All-DataSets',\n",
       "  'Speech-Recognition',\n",
       "  'Data-Structures-and-Algorithms-DSA-',\n",
       "  'Python-Crash-Course',\n",
       "  'Cross-Validation-Techniques',\n",
       "  'HyperParameter-Tuning-Techniques',\n",
       "  'Clustering-Algorithms',\n",
       "  'IMBalanced-Balanced-data',\n",
       "  'Ensemble-Algorithms',\n",
       "  'Decision-Tree-Algorithms',\n",
       "  'Dimensionality-Reduction-Algorithms',\n",
       "  'Association-Rule-Learning-Algorithms-',\n",
       "  'Bayesian-Algorithms',\n",
       "  'Regularization-Algorithms',\n",
       "  'Instance-Based-Algorithms',\n",
       "  'Non-Linear-Linear-Data',\n",
       "  'Regression-Algorithms',\n",
       "  'Performance-Metrics',\n",
       "  'Feature-Scaling',\n",
       "  'Feature-Engineering',\n",
       "  'Feature-Selection']}"
      ]
     },
     "execution_count": 6,
     "metadata": {},
     "output_type": "execute_result"
    }
   ],
   "source": [
    "sc.get_result_similar(\"https://github.com/KodumuruRaja?tab=repositories\",grouped=True)"
   ]
  },
  {
   "cell_type": "code",
   "execution_count": 8,
   "metadata": {},
   "outputs": [],
   "source": [
    "sc.set_rule_aliases({'rule_kqtz':'Followers','rule_y09p':'Repository Names'})\n",
    "sc.keep_rules(['rule_kqtz','rule_y09p'])\n",
    "sc.save('Github-Repositories')"
   ]
  },
  {
   "cell_type": "code",
   "execution_count": 9,
   "metadata": {},
   "outputs": [],
   "source": [
    "sc.load('Github-Repositories')"
   ]
  },
  {
   "cell_type": "code",
   "execution_count": 10,
   "metadata": {},
   "outputs": [
    {
     "data": {
      "text/plain": [
       "{'Followers': ['4', '26', '16'],\n",
       " 'Repository Names': ['applied-ml\\n\\n\\n          Forked from eugeneyan/applied-ml',\n",
       "  'Code-Notes',\n",
       "  'Reflection_Summary\\n\\n\\n          Forked from sladesha/Reflection_Summary',\n",
       "  'ml-design-patterns\\n\\n\\n          Forked from GoogleCloudPlatform/ml-design-patterns',\n",
       "  'DeepLearning-1\\n\\n\\n          Forked from wangshusen/DeepLearning',\n",
       "  'EssentialMath\\n\\n\\n          Forked from yangyutu/EssentialMath',\n",
       "  'causalml\\n\\n\\n          Forked from uber/causalml',\n",
       "  'DeepLearning\\n\\n\\n          Forked from Mikoto10032/DeepLearning',\n",
       "  'Fraud-Classification-Model',\n",
       "  'workshop\\n\\n\\n          Forked from data-science-on-aws/workshop',\n",
       "  'manifold\\n\\n\\n          Forked from uber/manifold',\n",
       "  'RecSys\\n\\n\\n          Forked from mJackie/RecSys',\n",
       "  'tensorflow_practice\\n\\n\\n          Forked from princewen/tensorflow_practice',\n",
       "  'machine-learning-systems-design\\n\\n\\n          Forked from chiphuyen/machine-learning-systems-design',\n",
       "  'system-design\\n\\n\\n          Forked from yuzhoujr/system-design',\n",
       "  'leetcode\\n\\n\\n          Forked from yuzhoujr/leetcode',\n",
       "  'scorecardpy\\n\\n\\n          Forked from ShichenXie/scorecardpy',\n",
       "  'scorecard\\n\\n\\n          Forked from ShichenXie/scorecard',\n",
       "  'Data-Science-Notes\\n\\n\\n          Forked from Jeff654/Data-Science-Notes',\n",
       "  'Credit-Scoring-Model-Module',\n",
       "  'Pricing-Strategy-Model',\n",
       "  'Machine-Learning-System-For-Heart-Failure-Physcians',\n",
       "  'NLP-Pytorch\\n\\n\\n          Forked from songyingxin/TextClassification',\n",
       "  'lihang-code\\n\\n\\n          Forked from fengdu78/lihang-code',\n",
       "  'Scorecard--Function\\n\\n\\n          Forked from taenggu0309/Scorecard--Function',\n",
       "  'variable-clustering\\n\\n\\n          Forked from jingmin1987/variable-clustering',\n",
       "  'Learning-to-Group\\n\\n\\n          Forked from ewanlee/Learning-to-Group',\n",
       "  'tensorflow-without-a-phd\\n\\n\\n          Forked from GoogleCloudPlatform/tensorflow-without-a-phd',\n",
       "  'feature-engineering-book\\n\\n\\n          Forked from alicezheng/feature-engineering-book',\n",
       "  'YOLO3-4-Py\\n\\n\\n          Forked from yychenca/YOLO3-4-Py']}"
      ]
     },
     "execution_count": 10,
     "metadata": {},
     "output_type": "execute_result"
    }
   ],
   "source": [
    "result=sc.get_result_similar(\"https://github.com/aaronwwy?tab=repositories\",group_by_alias=True)\n",
    "result"
   ]
  },
  {
   "cell_type": "code",
   "execution_count": 11,
   "metadata": {},
   "outputs": [
    {
     "data": {
      "text/plain": [
       "['4', '26', '16']"
      ]
     },
     "execution_count": 11,
     "metadata": {},
     "output_type": "execute_result"
    }
   ],
   "source": [
    "result['Followers']"
   ]
  },
  {
   "cell_type": "code",
   "execution_count": 12,
   "metadata": {},
   "outputs": [
    {
     "data": {
      "text/plain": [
       "['applied-ml\\n\\n\\n          Forked from eugeneyan/applied-ml',\n",
       " 'Code-Notes',\n",
       " 'Reflection_Summary\\n\\n\\n          Forked from sladesha/Reflection_Summary',\n",
       " 'ml-design-patterns\\n\\n\\n          Forked from GoogleCloudPlatform/ml-design-patterns',\n",
       " 'DeepLearning-1\\n\\n\\n          Forked from wangshusen/DeepLearning',\n",
       " 'EssentialMath\\n\\n\\n          Forked from yangyutu/EssentialMath',\n",
       " 'causalml\\n\\n\\n          Forked from uber/causalml',\n",
       " 'DeepLearning\\n\\n\\n          Forked from Mikoto10032/DeepLearning',\n",
       " 'Fraud-Classification-Model',\n",
       " 'workshop\\n\\n\\n          Forked from data-science-on-aws/workshop',\n",
       " 'manifold\\n\\n\\n          Forked from uber/manifold',\n",
       " 'RecSys\\n\\n\\n          Forked from mJackie/RecSys',\n",
       " 'tensorflow_practice\\n\\n\\n          Forked from princewen/tensorflow_practice',\n",
       " 'machine-learning-systems-design\\n\\n\\n          Forked from chiphuyen/machine-learning-systems-design',\n",
       " 'system-design\\n\\n\\n          Forked from yuzhoujr/system-design',\n",
       " 'leetcode\\n\\n\\n          Forked from yuzhoujr/leetcode',\n",
       " 'scorecardpy\\n\\n\\n          Forked from ShichenXie/scorecardpy',\n",
       " 'scorecard\\n\\n\\n          Forked from ShichenXie/scorecard',\n",
       " 'Data-Science-Notes\\n\\n\\n          Forked from Jeff654/Data-Science-Notes',\n",
       " 'Credit-Scoring-Model-Module',\n",
       " 'Pricing-Strategy-Model',\n",
       " 'Machine-Learning-System-For-Heart-Failure-Physcians',\n",
       " 'NLP-Pytorch\\n\\n\\n          Forked from songyingxin/TextClassification',\n",
       " 'lihang-code\\n\\n\\n          Forked from fengdu78/lihang-code',\n",
       " 'Scorecard--Function\\n\\n\\n          Forked from taenggu0309/Scorecard--Function',\n",
       " 'variable-clustering\\n\\n\\n          Forked from jingmin1987/variable-clustering',\n",
       " 'Learning-to-Group\\n\\n\\n          Forked from ewanlee/Learning-to-Group',\n",
       " 'tensorflow-without-a-phd\\n\\n\\n          Forked from GoogleCloudPlatform/tensorflow-without-a-phd',\n",
       " 'feature-engineering-book\\n\\n\\n          Forked from alicezheng/feature-engineering-book',\n",
       " 'YOLO3-4-Py\\n\\n\\n          Forked from yychenca/YOLO3-4-Py']"
      ]
     },
     "execution_count": 12,
     "metadata": {},
     "output_type": "execute_result"
    }
   ],
   "source": [
    "result['Repository Names']"
   ]
  },
  {
   "cell_type": "code",
   "execution_count": null,
   "metadata": {},
   "outputs": [],
   "source": []
  }
 ],
 "metadata": {
  "kernelspec": {
   "display_name": "Python 3",
   "language": "python",
   "name": "python3"
  },
  "language_info": {
   "codemirror_mode": {
    "name": "ipython",
    "version": 3
   },
   "file_extension": ".py",
   "mimetype": "text/x-python",
   "name": "python",
   "nbconvert_exporter": "python",
   "pygments_lexer": "ipython3",
   "version": "3.8.5"
  }
 },
 "nbformat": 4,
 "nbformat_minor": 4
}
